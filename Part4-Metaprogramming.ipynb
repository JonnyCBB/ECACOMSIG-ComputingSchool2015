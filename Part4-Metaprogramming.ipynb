{
 "cells": [
  {
   "cell_type": "markdown",
   "metadata": {},
   "source": [
    "#Introduction to (why I love) Julia: Part 4 - Metaprogramming\n",
    "Metaprogamming is **writing code that writes code!**   \n",
    "\n",
    "Now how cool is that? Pretty cool I know. So I myself again haven't used this feature that much so again the following examples are going to be _borrowed_ from other sources. But these are incredibly cool.   \n",
    "\n",
    "Used correctly and metaprogramming in Julia can be used to enhance the performance of your code.\n",
    "\n",
    "_I would like to reiterate at this point that this document is a list of reasons why I like Julia as opposed to a tutorial. For more comprehensive information, go to the official [Julia Documentation](http://docs.julialang.org/en/release-0.3/)_"
   ]
  },
  {
   "cell_type": "markdown",
   "metadata": {},
   "source": [
    "###Macros\n",
    "You can think of julia execution as a two-step process. It first parses the code (parse time) and then run the code (run time).   \n",
    "\n",
    "The metaprogramming in Julia is performed using macros. These are essentialy **functions evaluated at parse-time**, which take a **symbolic expression** as input and produce **another expression** as output, which is **inserted into the code** before compilation (i.e. code generation during parse time):\n",
    "\n",
    "## parse → expressions → macro → new expr. → compile \n",
    "\n",
    "To illustrate, consider this example"
   ]
  },
  {
   "cell_type": "code",
   "execution_count": 23,
   "metadata": {
    "collapsed": false
   },
   "outputs": [
    {
     "name": "stdout",
     "output_type": "stream",
     "text": [
      "I execute at parse time. The argument is: :(\"Jonny\")\n"
     ]
    },
    {
     "data": {
      "text/plain": [
       ":(println(\"I execute at runtime. The argument is: \",:(\"Jonny\")))"
      ]
     },
     "execution_count": 23,
     "metadata": {},
     "output_type": "execute_result"
    }
   ],
   "source": [
    "macro twostep(arg)\n",
    "    println(\"I execute at parse time. The argument is: \", arg)\n",
    "    \n",
    "    return :(println(\"I execute at runtime. The argument is: \", $arg))\n",
    "end\n",
    "\n",
    "ex = macroexpand(:(@twostep :(\"Jonny\")))"
   ]
  },
  {
   "cell_type": "markdown",
   "metadata": {},
   "source": [
    "The `macroexpand` function allows us the view the quoted return expression. We can see the return expression as the second line of the output above. But notice that the println statement above was **actually executed**. We know that this wasn't executed at run time because the argument wasn't evaluate to the `String` object \"Jonny\". "
   ]
  },
  {
   "cell_type": "markdown",
   "metadata": {},
   "source": [
    "###Another simple example\n",
    "This macro **reverses the order of function arguments**"
   ]
  },
  {
   "cell_type": "code",
   "execution_count": 3,
   "metadata": {
    "collapsed": true
   },
   "outputs": [],
   "source": [
    "macro reverse(ex)\n",
    "    if isa(ex, Expr) && ex.head == :call\n",
    "        return Expr(:call, ex.args[1], reverse(ex.args[2:end])...)\n",
    "    else\n",
    "        return ex\n",
    "    end\n",
    "end"
   ]
  },
  {
   "cell_type": "code",
   "execution_count": 5,
   "metadata": {
    "collapsed": false
   },
   "outputs": [
    {
     "data": {
      "text/plain": [
       "-2"
      ]
     },
     "execution_count": 5,
     "metadata": {},
     "output_type": "execute_result"
    }
   ],
   "source": [
    "# equivalent to 4 - 1\n",
    "@reverse 6 - 4"
   ]
  },
  {
   "cell_type": "code",
   "execution_count": 7,
   "metadata": {
    "collapsed": false
   },
   "outputs": [
    {
     "data": {
      "text/plain": [
       "\"is this backwards?\""
      ]
     },
     "execution_count": 7,
     "metadata": {},
     "output_type": "execute_result"
    }
   ],
   "source": [
    "@reverse \"backwards?\" * \"this \" * \"is \""
   ]
  },
  {
   "cell_type": "markdown",
   "metadata": {},
   "source": [
    "###A more useful example\n",
    "Here is an example from a (very useful) Julia Package called **Devectorize.jl**.\n",
    "\n",
    "In many programming languages (including Julia), expressions are immediately evaluated upon construction. This simple strategy often results in less than optimal behaviors, which, for example, include *creation of unnecessary temporaries* and *repeated memory round-trips*. Consider the following example,\n",
    "\n",
    "```julia\n",
    "r = a .* b + c .* d + a\n",
    "```\n",
    "\n",
    "With immediate evaluation, three temporaries, respectively for storing the results of ``a .* b``, ``c .* d ``, and ``a .* b + c .* d``. Also, the array ``a`` will be traversed twice. Moreover, computation on large arrays is often memory-bound -- the run-time performance largely depends on how many times you have to scan the arrays. \n",
    "\n",
    "For the formula above, a much more efficient way to evaluate it can be expressed using for-loops as follows\n",
    "\n",
    "```julia\n",
    "n = length(a)\n",
    "r = zeros(n)\n",
    "for i = 1 : n\n",
    "\tr[i] = a[i] * b[i] + c[i] * d[i] + a[i]\n",
    "end\n",
    "```\n",
    "\n",
    "With this piece of code, you can get all the results in one pass, without creating any temporary arrays.\n",
    "However, low-level for-loops are often much longer and more difficult to read, write, and maintain. \n",
    "\n",
    "> **Is it possible to combine the elegance of high-level expressions and the performance of low-level for-loops?**\n",
    "\n",
    "Yes it is!\n",
    "\n",
    "We can write something like \n",
    "```julia\n",
    "@devec r = a .* b + c .* d + a\n",
    "``` \n",
    "To obtain the required performance benefits\n",
    "\n",
    "Here is a table of benchmark results on some typical cases.\n",
    "\n",
    "|                 |  julia vec |  @devec  | hand-coded loop |\n",
    "| -------------   | -----------|---------|-----------------|\n",
    "| simple-ewise    |   1.0000   | 2.6032x |  2.5719x |\n",
    "| complex-ewise   |   1.0000   | 2.4581x |  2.4364x |\n",
    "| shift-dot       |   1.0000   | 8.3237x |  8.2959x |\n",
    "| colwise-sum     |   1.0000   | 1.3321x |  1.2771x |\n",
    "| rowwise-sum     |   1.0000   | 4.2736x |  4.2444x |\n",
    "| colwise-eucdist |   1.0000   | 5.6502x |  5.5356x |\n",
    "\n",
    "*The result was obtained with Julia ``commit 3f92b13210 (2013-02-03)`` on Mac OS X 10.8, using the script ``test/bench_devec.jl``, which comes with the Devectorize package.*"
   ]
  }
 ],
 "metadata": {
  "kernelspec": {
   "display_name": "Julia 0.3.11",
   "language": "julia",
   "name": "julia-0.3"
  },
  "language_info": {
   "name": "julia",
   "version": "0.3.11"
  }
 },
 "nbformat": 4,
 "nbformat_minor": 0
}
