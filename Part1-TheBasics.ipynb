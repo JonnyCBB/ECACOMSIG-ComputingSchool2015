{
 "cells": [
  {
   "cell_type": "markdown",
   "metadata": {},
   "source": [
    "#Introduction to (why I love) Julia: Part 1 - The Basics\n",
    "So I have to begin by stating that I'm very new to Julia and my knowledge is still increasing as I learn more about the language. Aside from having beautiful syntax and a fantastically inclusive user community, there are several other reasons why I love this programming language.   \n",
    "\n",
    "This series of notebooks was written for a \"tutorial\" for the Crystallographic Computing School in Rovinj Croatia August 2015 and covers some of the aspects of Julia that make it a great language in my opinion. This also means that I will _**NOT** necessarily cover all of the things that make Julia great._   \n",
    "\n",
    "So here it goes\n",
    "\n",
    "## Hello World\n",
    "_(The obligatory starting point for learning any language)_\n",
    "\n",
    "Here it is in all of its glory:"
   ]
  },
  {
   "cell_type": "code",
   "execution_count": null,
   "metadata": {
    "collapsed": true
   },
   "outputs": [],
   "source": [
    "https://github.com/JonnyCBB/ECACOMSIG-ComputingSchool2015"
   ]
  },
  {
   "cell_type": "code",
   "execution_count": 2,
   "metadata": {
    "collapsed": false
   },
   "outputs": [
    {
     "name": "stdout",
     "output_type": "stream",
     "text": [
      "Hello World!"
     ]
    }
   ],
   "source": [
    "print(\"Hello World!\")"
   ]
  },
  {
   "cell_type": "markdown",
   "metadata": {},
   "source": [
    "##Variable names in Julia\n",
    "\n",
    "If you've used languages like Python, Matlab, R, etc. then Julia should have a familiar syntax.\n",
    "\n",
    "We can assign variables in the usual way:\n",
    "\n"
   ]
  },
  {
   "cell_type": "code",
   "execution_count": 3,
   "metadata": {
    "collapsed": false
   },
   "outputs": [
    {
     "name": "stdout",
     "output_type": "stream",
     "text": [
      "15"
     ]
    }
   ],
   "source": [
    "x = 5\n",
    "y = 10\n",
    "z = x + y\n",
    "print(z)"
   ]
  },
  {
   "cell_type": "markdown",
   "metadata": {},
   "source": [
    "Julia also allows use of **unicode characters** for variable names"
   ]
  },
  {
   "cell_type": "code",
   "execution_count": 3,
   "metadata": {
    "collapsed": false
   },
   "outputs": [
    {
     "name": "stdout",
     "output_type": "stream",
     "text": [
      "15"
     ]
    }
   ],
   "source": [
    "★ = 5\n",
    "❤ᵢ = 10\n",
    "☢ = ★ + ❤ᵢ\n",
    "print(☢)"
   ]
  },
  {
   "cell_type": "markdown",
   "metadata": {},
   "source": [
    "At first sight this may seem a little odd. _Why would you want to use symbols that make the code less readable?_\n",
    "\n",
    "Unicode code characters can actually make code more readable. Consider the following: "
   ]
  },
  {
   "cell_type": "code",
   "execution_count": 4,
   "metadata": {
    "collapsed": false
   },
   "outputs": [
    {
     "name": "stdout",
     "output_type": "stream",
     "text": [
      "0.7071067811865474"
     ]
    }
   ],
   "source": [
    "θ = 2π\n",
    "ϕ = π/4\n",
    "x = sin(θ + ϕ)\n",
    "print(x)"
   ]
  },
  {
   "cell_type": "code",
   "execution_count": 1,
   "metadata": {
    "collapsed": false
   },
   "outputs": [
    {
     "data": {
      "text/plain": [
       "π = 3.1415926535897..."
      ]
     },
     "execution_count": 1,
     "metadata": {},
     "output_type": "execute_result"
    }
   ],
   "source": [
    "π"
   ]
  },
  {
   "cell_type": "markdown",
   "metadata": {},
   "source": [
    "There are a few things to notice here:\n",
    "* In the first line there is no \" * \" between 2 and $\\pi$ to denote multiplication. It is inferred\n",
    "* At no point have I defined $\\pi$. The value is already included in the standard library\n",
    "* The sine function is also included in the standard library.\n",
    "* $\\theta$ and $\\phi$ are commonly used as angles so are not necessarily ambiguous.   \n",
    "writing their full names in the code looks more cluttered.\n",
    "\n",
    "Here is the code if I wrote it in full syntax without the unicode characters and the multiplication inference.\n",
    "```julia\n",
    "theta = 2*pi\n",
    "phi = pi/4\n",
    "x = sin(theta + phi)\n",
    "print(x)\n",
    "```\n",
    "\n",
    "Writing unicode characters in Julia is as simple as writing **_Latex_**"
   ]
  },
  {
   "cell_type": "code",
   "execution_count": 6,
   "metadata": {
    "collapsed": false
   },
   "outputs": [
    {
     "name": "stdout",
     "output_type": "stream",
     "text": [
      "13.141592653589793"
     ]
    }
   ],
   "source": [
    "ϕ=10\n",
    "print(ϕ+π)"
   ]
  },
  {
   "cell_type": "markdown",
   "metadata": {},
   "source": [
    "You can even use the corresponding unicode characters as comparison operators:"
   ]
  },
  {
   "cell_type": "code",
   "execution_count": 7,
   "metadata": {
    "collapsed": false
   },
   "outputs": [
    {
     "data": {
      "text/plain": [
       "true"
      ]
     },
     "execution_count": 7,
     "metadata": {},
     "output_type": "execute_result"
    }
   ],
   "source": [
    "x = 5\n",
    "2 ≤ x ≤ 10"
   ]
  },
  {
   "cell_type": "markdown",
   "metadata": {},
   "source": [
    "##Strings\n",
    "strings are declared in the usual way (for traditional scripting languages) i.e."
   ]
  },
  {
   "cell_type": "code",
   "execution_count": 8,
   "metadata": {
    "collapsed": false
   },
   "outputs": [
    {
     "data": {
      "text/plain": [
       "\"My name is Jonny Brooks\""
      ]
     },
     "execution_count": 8,
     "metadata": {},
     "output_type": "execute_result"
    }
   ],
   "source": [
    "my_string = \"My name is Jonny Brooks\""
   ]
  },
  {
   "cell_type": "markdown",
   "metadata": {},
   "source": [
    "and strings can be indexed just as they would usually "
   ]
  },
  {
   "cell_type": "code",
   "execution_count": 9,
   "metadata": {
    "collapsed": false
   },
   "outputs": [
    {
     "data": {
      "text/plain": [
       "'M'"
      ]
     },
     "execution_count": 9,
     "metadata": {},
     "output_type": "execute_result"
    }
   ],
   "source": [
    "my_string[1]"
   ]
  },
  {
   "cell_type": "markdown",
   "metadata": {},
   "source": [
    "**Notice that indexing in Julia begins at 1 and not 0!**"
   ]
  },
  {
   "cell_type": "markdown",
   "metadata": {},
   "source": [
    "##Arrays\n",
    "Arrays are similar to Matlab and numpy arrays. They are defined in a similar manner (to Matlab)"
   ]
  },
  {
   "cell_type": "code",
   "execution_count": 2,
   "metadata": {
    "collapsed": false
   },
   "outputs": [
    {
     "data": {
      "text/plain": [
       "3-element Array{Int64,1}:\n",
       " 1\n",
       " 2\n",
       " 3"
      ]
     },
     "execution_count": 2,
     "metadata": {},
     "output_type": "execute_result"
    }
   ],
   "source": [
    "my_array1 = [1,2,3]"
   ]
  },
  {
   "cell_type": "markdown",
   "metadata": {},
   "source": [
    "Matrices can be added and subtracted as long as the dimensions are the same"
   ]
  },
  {
   "cell_type": "code",
   "execution_count": 4,
   "metadata": {
    "collapsed": false
   },
   "outputs": [
    {
     "data": {
      "text/plain": [
       "3-element Array{Int64,1}:\n",
       " 5\n",
       " 7\n",
       " 9"
      ]
     },
     "execution_count": 4,
     "metadata": {},
     "output_type": "execute_result"
    }
   ],
   "source": [
    "my_array2 = [4,5,6]\n",
    "\n",
    "summed_array = my_array1 + my_array2"
   ]
  },
  {
   "cell_type": "markdown",
   "metadata": {},
   "source": [
    "However Julia is much more pedantic with arrays than Matlab and Python so you have to be certain about what you mean when you perform multiplication operations.\n",
    "```julia\n",
    "my_array1 * my_array2\n",
    "```\n",
    "will return an error (as will Matlab). This is because you are trying to multiply a 3x1 vector with another 3x1 vector. Mathematically this is nonsense so Julia wont allow you to do it. Python on the other hand will infer an element-wise multiplication.   \n",
    "\n",
    "To do element-wise multiplication you have to use the '.*' operator e.g.\n"
   ]
  },
  {
   "cell_type": "code",
   "execution_count": 5,
   "metadata": {
    "collapsed": false
   },
   "outputs": [
    {
     "data": {
      "text/plain": [
       "3-element Array{Int64,1}:\n",
       "  4\n",
       " 10\n",
       " 18"
      ]
     },
     "execution_count": 5,
     "metadata": {},
     "output_type": "execute_result"
    }
   ],
   "source": [
    "my_array1 .* my_array2"
   ]
  },
  {
   "cell_type": "markdown",
   "metadata": {},
   "source": [
    "####Adding and removing Array elements\n",
    "adding and removing elements of an array is simple using the `push!` and `pop!` operators"
   ]
  },
  {
   "cell_type": "code",
   "execution_count": 8,
   "metadata": {
    "collapsed": false
   },
   "outputs": [
    {
     "data": {
      "text/plain": [
       "3-element Array{ASCIIString,1}:\n",
       " \"finish\"  \n",
       " \"the\"     \n",
       " \"sentence\""
      ]
     },
     "execution_count": 8,
     "metadata": {},
     "output_type": "execute_result"
    }
   ],
   "source": [
    "a = [\"finish\", \"the\"]\n",
    "push!(a,\"sentence\")"
   ]
  },
  {
   "cell_type": "code",
   "execution_count": 52,
   "metadata": {
    "collapsed": false
   },
   "outputs": [
    {
     "data": {
      "text/plain": [
       "5"
      ]
     },
     "execution_count": 52,
     "metadata": {},
     "output_type": "execute_result"
    }
   ],
   "source": [
    "b = [1,2,3,4,5]\n",
    "pop!(b)"
   ]
  },
  {
   "cell_type": "markdown",
   "metadata": {},
   "source": [
    "Notice that these operators include a \"!\" at the end. This signifies that the first argument of the function is going to be changed.   \n",
    "This notation isn't set in stone but it's encouraged."
   ]
  },
  {
   "cell_type": "markdown",
   "metadata": {},
   "source": [
    "##Other Collections\n",
    "Julia has other types of collections too. These include (and aren't necessarily limited too)\n",
    "* Dictionaries\n",
    "* Sets\n",
    "* DataArrays/DataFrames\n",
    "* Tuples"
   ]
  }
 ],
 "metadata": {
  "kernelspec": {
   "display_name": "Julia 0.3.11",
   "language": "julia",
   "name": "julia-0.3"
  },
  "language_info": {
   "name": "julia",
   "version": "0.3.11"
  }
 },
 "nbformat": 4,
 "nbformat_minor": 0
}
