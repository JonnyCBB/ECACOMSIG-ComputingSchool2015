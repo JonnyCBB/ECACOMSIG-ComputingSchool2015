{
 "cells": [
  {
   "cell_type": "markdown",
   "metadata": {},
   "source": [
    "#Introduction to (why I love) Julia: Part 2 - Types and Multiple Dispatch\n",
    "Now I'm far from a programming guru and to be honest I had no idea what multiple dispatch meant the first time someone told me that this was an awesome feature of Julia. But it turns out it actually is awesome. I also have a much greater appreciation for the significance of types too. As someone who came into programming from a mathematical standpoint (I just wanted the programs to execute the maths I wrote down on paper without care for what the computer was doing behind the scenes), types didn't strike me as something I should worry about. But Julia is so nice that it makes you want to know.   \n",
    "\n",
    "Anyway, enough of me babbling on, lets get stuck in.\n",
    "\n",
    "###Primitive Types\n",
    "Primitive types are essentially data types that have one job - store a single piece of data. We've already come across these already in Part 1."
   ]
  },
  {
   "cell_type": "code",
   "execution_count": 51,
   "metadata": {
    "collapsed": false
   },
   "outputs": [
    {
     "data": {
      "text/plain": [
       "3-element Array{Int64,1}:\n",
       " 1\n",
       " 2\n",
       " 3"
      ]
     },
     "execution_count": 51,
     "metadata": {},
     "output_type": "execute_result"
    }
   ],
   "source": [
    "a = [1,2,3]"
   ]
  },
  {
   "cell_type": "markdown",
   "metadata": {},
   "source": [
    "Let's break the first line down. Namely\n",
    "```\n",
    "3-element Array{Int64,1}\n",
    "```\n",
    "The part on the left is `3-element` which tells us that our array has 3 elements.   \n",
    "The second part `Array{Int64,1}` tells us that we created an `Array` that is populated by `Int64`s, i.e. 64 bit integers and has only `1` dimension.   \n",
    "\n",
    "We could instead create a 2-dimensional array (Matrix) which contains floats like so"
   ]
  },
  {
   "cell_type": "code",
   "execution_count": 52,
   "metadata": {
    "collapsed": false
   },
   "outputs": [
    {
     "data": {
      "text/plain": [
       "2x3 Array{Float64,2}:\n",
       "  2.83345e-306   1.66651e266  4.32883e-315\n",
       " -1.40635e-129  -9.83388e-48  3.62676e-316"
      ]
     },
     "execution_count": 52,
     "metadata": {},
     "output_type": "execute_result"
    }
   ],
   "source": [
    "a = Array(Float64,2,3)\n"
   ]
  },
  {
   "cell_type": "markdown",
   "metadata": {},
   "source": [
    "###Type Tree\n",
    "Julia Types are organized in a hierarchical manner like a tree. For example, `Integer` and `FloatingPoint` are data types that both store real numbers. So their _super type_ is `Real`. likewise `Real` and `Complex` are both types of number so their super type is `Number`.   \n",
    "\n",
    "The top of this tree contains a type called `Any`. And all primitive types are at the bottom of this tree.   \n",
    "This means we can store `Any` value (see what I did there) in an array"
   ]
  },
  {
   "cell_type": "code",
   "execution_count": 53,
   "metadata": {
    "collapsed": false
   },
   "outputs": [
    {
     "data": {
      "text/plain": [
       "4-element Array{Any,1}:\n",
       "    \"Drinks\"\n",
       "   2        \n",
       "    \"night\" \n",
       " '?'        "
      ]
     },
     "execution_count": 53,
     "metadata": {},
     "output_type": "execute_result"
    }
   ],
   "source": [
    "a = [\"Drinks\",2,\"night\",'?']"
   ]
  },
  {
   "cell_type": "markdown",
   "metadata": {},
   "source": [
    "###Type Stability\n",
    "Julia uses Just-in-time (JIT) compilation to achieve its blazing fast speed. Remember that in languages like C and Fortran the compiler is helped to optimize code because the user defines the types of variables when they are declared. Well Julia tries to infer the types so you don't have to. This is one of the major reasons for Julia's speed.   \n",
    "\n",
    "** This does not mean Julia will be fast is you write unhelpful code.** Let's explore this further.   \n",
    "\n",
    "Consider the following code snippet taken from the [Performance tips](http://julia.readthedocs.org/en/latest/manual/performance-tips/) section of the [Julia Language website](http://julialang.org/)."
   ]
  },
  {
   "cell_type": "code",
   "execution_count": 60,
   "metadata": {
    "collapsed": false
   },
   "outputs": [
    {
     "data": {
      "text/plain": [
       "f (generic function with 2 methods)"
      ]
     },
     "execution_count": 60,
     "metadata": {},
     "output_type": "execute_result"
    }
   ],
   "source": [
    "function f(n)\n",
    "    s = 0\n",
    "    for i = 1:n\n",
    "        s += i/2\n",
    "    end\n",
    "    s\n",
    "end"
   ]
  },
  {
   "cell_type": "code",
   "execution_count": 55,
   "metadata": {
    "collapsed": false
   },
   "outputs": [
    {
     "name": "stdout",
     "output_type": "stream",
     "text": [
      "elapsed time: 0.037176081 seconds (32000208 bytes allocated)\n"
     ]
    },
    {
     "data": {
      "text/plain": [
       "2.5000025e11"
      ]
     },
     "execution_count": 55,
     "metadata": {},
     "output_type": "execute_result"
    }
   ],
   "source": [
    "@time f(10^6)"
   ]
  },
  {
   "cell_type": "markdown",
   "metadata": {},
   "source": [
    "#####The Problem\n",
    "All seems ok at first glance, especially if you're used to programming in other scripting languages. But take a look at the number of bytes allocated and the garbage collection (gc) time. Around half of the time is spent not actually performing the computation. Something isn't right here.   \n",
    "\n",
    "The problem is with `s`. As mentioned previously, Julia infers the types of the variables, therefore it is important to take note of the types of the variables throughout the function (well it's important if you want good performance from your code). In this example `s` is initially inferred as an integer but when we enter the loop and divide the first value of `i`, namely 1, by two and assign it to `s`, `s` becomes equal to 0.5 which is not an integer.   \n",
    "This is called **type instability**. Type instabilities prevent the compiler from generating efficient machine code and hence result in sub-optimal performance.   \n",
    "To get fast, memory efficient code we need to write **type stable** functions i.e. the types that are inferred of each variable never changes throughout the computation of the function.   \n",
    "\n",
    "Consider the same function but this time the variable `s` is inferred as a floating point number from the beginning."
   ]
  },
  {
   "cell_type": "code",
   "execution_count": 23,
   "metadata": {
    "collapsed": false
   },
   "outputs": [
    {
     "data": {
      "text/plain": [
       "f_improved (generic function with 2 methods)"
      ]
     },
     "execution_count": 23,
     "metadata": {},
     "output_type": "execute_result"
    }
   ],
   "source": [
    "function f_improved(n)\n",
    "    s = 0.0\n",
    "    for i = 1:n\n",
    "        s += i/2\n",
    "    end\n",
    "    s\n",
    "end"
   ]
  },
  {
   "cell_type": "code",
   "execution_count": 37,
   "metadata": {
    "collapsed": false
   },
   "outputs": [
    {
     "name": "stdout",
     "output_type": "stream",
     "text": [
      "elapsed time: 0.005672565 seconds (112 bytes allocated)\n"
     ]
    },
    {
     "data": {
      "text/plain": [
       "2.5000025e11"
      ]
     },
     "execution_count": 37,
     "metadata": {},
     "output_type": "execute_result"
    }
   ],
   "source": [
    "@time f_improved(10^6)"
   ]
  },
  {
   "cell_type": "markdown",
   "metadata": {},
   "source": [
    "Notice that this is about x10 faster than the previous function and the memory usage is much MUCH smaller.   \n",
    "\n",
    "#####Intentional Feature\n",
    "So you may wonder: _If this way of writing code is this beneficial, why allow programmers to write so inefficiently?_   \n",
    "\n",
    "This is an intentional feature of Julia so that programmers of all abilities can write code in the language. The less well written code may be more familiar to users of other scripting languages so the learning curve is less steep. But as they write more Julia code they will learn how to write efficient code the _Julian_ way.    \n",
    "\n",
    "You can even go further and annotate the types of the variables."
   ]
  },
  {
   "cell_type": "code",
   "execution_count": 39,
   "metadata": {
    "collapsed": false
   },
   "outputs": [
    {
     "data": {
      "text/plain": [
       "f_annotated (generic function with 1 method)"
      ]
     },
     "execution_count": 39,
     "metadata": {},
     "output_type": "execute_result"
    }
   ],
   "source": [
    "function f_annotated(n::Int64)\n",
    "    s::Float64 = 0.0\n",
    "    for i = 1:n\n",
    "        s += i/2\n",
    "    end\n",
    "    return s\n",
    "end"
   ]
  },
  {
   "cell_type": "code",
   "execution_count": 44,
   "metadata": {
    "collapsed": false
   },
   "outputs": [
    {
     "name": "stdout",
     "output_type": "stream",
     "text": [
      "elapsed time: 0.003748586 seconds (112 bytes allocated)\n"
     ]
    },
    {
     "data": {
      "text/plain": [
       "2.5000025e11"
      ]
     },
     "execution_count": 44,
     "metadata": {},
     "output_type": "execute_result"
    }
   ],
   "source": [
    "@time f_annotated(10^6)"
   ]
  },
  {
   "cell_type": "markdown",
   "metadata": {},
   "source": [
    "###Composite Types\n",
    "Of course there are other types in Julia but we'll only explore one more type known as a _composite type_.   \n",
    "You can basically think of these types as containers that store more than one piece of data. A relevant crystallographic example is a reflection"
   ]
  },
  {
   "cell_type": "code",
   "execution_count": 47,
   "metadata": {
    "collapsed": true
   },
   "outputs": [],
   "source": [
    "type Reflection\n",
    "    hkl::Vector{Int16} # range -32768 ≤ x ≤ 32767\n",
    "    isCentric\n",
    "end"
   ]
  },
  {
   "cell_type": "markdown",
   "metadata": {},
   "source": [
    "Here you can see that we have defined a _Reflection_ type which has two properties, _hkl_ (the Miller indices) and whether the reflection is centric. Here we should note a few more things we haven't come across:\n",
    "* _hkl_ is a type called _Vector_. This is equivalent the an array of dimension 1. (We came across these in part 1).\n",
    "* I've chosen _Int16_ rather than _Int64_. We've only seen 64 bit ints because it's the default (for a 64-bit OS) but if we know that the variables will not exceed certain values then we can change the size of the memory container for more efficient and performant code.\n",
    "* I haven't had to define the type of the _isCentric_ variable. Julia assumes this variable can take _Any_ value."
   ]
  },
  {
   "cell_type": "code",
   "execution_count": 57,
   "metadata": {
    "collapsed": false
   },
   "outputs": [
    {
     "data": {
      "text/plain": [
       "Reflection(Int16[1,2,3],true)"
      ]
     },
     "execution_count": 57,
     "metadata": {},
     "output_type": "execute_result"
    }
   ],
   "source": [
    "ref = Reflection([1,2,3], true)"
   ]
  },
  {
   "cell_type": "code",
   "execution_count": 61,
   "metadata": {
    "collapsed": false
   },
   "outputs": [
    {
     "name": "stdout",
     "output_type": "stream",
     "text": [
      "DataType   : Reflection (constructor with 2 methods)\n",
      "  supertype: Any\n",
      "  fields   : (:hkl,:isCentric)\n"
     ]
    }
   ],
   "source": [
    "help(Reflection)"
   ]
  },
  {
   "cell_type": "markdown",
   "metadata": {},
   "source": [
    "###~~Object Orientation~~ _Multiple Dispatch_ in Julia\n",
    "Here I shamelessly copy the explanation from the JuliaBox tutorial folder.\n",
    "\n",
    "\n",
    "[Multiple dispatch](http://en.wikipedia.org/wiki/Multiple_dispatch) can be thought of as a generalization of **object-oriented** (OO) programming.\n",
    "\n",
    "In a typical OO language like Python, an object type (class) *owns* certain *methods* (functions), and are typically called via\n",
    "```\n",
    "object.method(arg1, arg2)\n",
    "```\n",
    "Depending on the type of `object`, the runtime system will *dispatch* to different `method` definitions.\n",
    "\n",
    "In Julia, the same call would be \"spelled\" differently:\n",
    "```\n",
    "method(object, arg1, arg2)\n",
    "```\n",
    "Spelled this way, you should notice something odd about OO programming: why is the *first* argument so special?\n",
    "\n",
    "Traditional OO programming corresponds to **single dispatch**: the runtime chooses `method` based on the type of the *first* argument only.   Julia implements **multiple dispatch**: the runtime chooses `method` based on the types of *all* the arguments."
   ]
  },
  {
   "cell_type": "markdown",
   "metadata": {},
   "source": [
    "####Why does this make sense in a mathematical framework?\n",
    "Let's think about the binary operation multiplication, denoted *   \n",
    "\n",
    "If we have two values, $a$ and $b$, which we wish to multiply then the operation method crucially depends on the types of values. For example, if $a$ and $b$ are scalar values then the method of multiplication is different to the method that would be performed if they were matrices.   \n",
    "\n",
    "(Notice that with this definition multiplication is a function, but the function can contain many methods - different ways of performing mulitplication - based on the types of the values. So a function can be described as a container for methods and this is a good description for how things work in Julia).\n",
    "\n",
    "So the type of either $a$ or $b$ should not have overall say in the method that is used (as in traditional OOP). Instead we should consider the value of all arguments before deciding on the function. This is what Julia does and this is _Multiple Dispatch_.\n",
    "\n",
    "#####Not the same as overloading\n",
    "This may look a lot like function overloading in languages like C++.   The difference is that C++'s overloading is **static** (= *dispatch at compile-time*), whereas Julia's overloading is dynamic (= *dispatch at run-time*), like OO polymorphism."
   ]
  },
  {
   "cell_type": "code",
   "execution_count": 6,
   "metadata": {
    "collapsed": false
   },
   "outputs": [
    {
     "ename": "LoadError",
     "evalue": "invalid redefinition of constant Tiger\nwhile loading In[6], in expression starting on line 2",
     "output_type": "error",
     "traceback": [
      "invalid redefinition of constant Tiger\nwhile loading In[6], in expression starting on line 2",
      ""
     ]
    }
   ],
   "source": [
    "#Create 1st type - Tiger\n",
    "type Tiger\n",
    "    tailLength::Float64\n",
    "    coatColour::ASCIIString\n",
    "end\n",
    "\n",
    "#Create 2nd type - Lion\n",
    "type Lion\n",
    "    maneColour::ASCIIString\n",
    "    roar::String\n",
    "end\n",
    "\n",
    "#Different way of defining a function\n",
    "giveProperty(animal::Tiger) = println(animal.coatcolour) #method for 'Tiger' argument type\n",
    "giveProperty(animal::Lion)  = println(animal.roar) #method for 'Lion' argument type\n",
    "\n",
    "#Create Tiger and Lion objects\n",
    "tiger = Tiger(3.5, \"Orange with black stripes\")\n",
    "lion = Lion(\"Orangey Yellow\", \"Big old lion ROAR!!!\") \n",
    "\n",
    "#Call the function on the objects\n",
    "giveProperty(tiger)\n",
    "giveProperty(lion)"
   ]
  },
  {
   "cell_type": "markdown",
   "metadata": {},
   "source": [
    "Notice that there is no need for `if` statements to check the types of the inputs like you would need to do in Python or Matlab. Therefore the code is cleaner and more concise."
   ]
  }
 ],
 "metadata": {
  "kernelspec": {
   "display_name": "Julia 0.3.11",
   "language": "julia",
   "name": "julia-0.3"
  },
  "language_info": {
   "name": "julia",
   "version": "0.3.11"
  }
 },
 "nbformat": 4,
 "nbformat_minor": 0
}
